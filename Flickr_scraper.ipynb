{
 "cells": [
  {
   "cell_type": "markdown",
   "metadata": {},
   "source": [
    "\n",
    "<h1 align = \"center\">Downloading Images from Flickr for Use in CNNs</h1>"
   ]
  },
  {
   "cell_type": "markdown",
   "metadata": {
    "toc": true
   },
   "source": [
    "<h1>Table of Contents<span class=\"tocSkip\"></span></h1>\n",
    "<div class=\"toc\"><ul class=\"toc-item\"><li><span><a href=\"#Using-the-flickr-API-for-downloading-images-and-resizing-them\" data-toc-modified-id=\"Using-the-flickr-API-for-downloading-images-and-resizing-them-1\"><span class=\"toc-item-num\">1&nbsp;&nbsp;</span>Using the flickr API for downloading images and resizing them</a></span></li></ul></div>"
   ]
  },
  {
   "cell_type": "markdown",
   "metadata": {},
   "source": [
    "### Using the flickr API for downloading images and resizing them"
   ]
  },
  {
   "cell_type": "markdown",
   "metadata": {},
   "source": [
    "Please refer to the code below"
   ]
  },
  {
   "cell_type": "code",
   "execution_count": 49,
   "metadata": {},
   "outputs": [
    {
     "name": "stdout",
     "output_type": "stream",
     "text": [
      "Requirement already satisfied: flickrapi in f:\\anaconda3\\lib\\site-packages (2.4.0)\n",
      "Requirement already satisfied: requests-toolbelt>=0.3.1 in f:\\anaconda3\\lib\\site-packages (from flickrapi) (0.8.0)\n",
      "Requirement already satisfied: requests>=2.2.1 in f:\\anaconda3\\lib\\site-packages (from flickrapi) (2.18.4)\n",
      "Requirement already satisfied: six>=1.5.2 in f:\\anaconda3\\lib\\site-packages (from flickrapi) (1.11.0)\n",
      "Requirement already satisfied: requests-oauthlib>=0.4.0 in f:\\anaconda3\\lib\\site-packages (from flickrapi) (1.0.0)\n",
      "Requirement already satisfied: chardet<3.1.0,>=3.0.2 in f:\\anaconda3\\lib\\site-packages (from requests>=2.2.1->flickrapi) (3.0.4)\n",
      "Requirement already satisfied: idna<2.7,>=2.5 in f:\\anaconda3\\lib\\site-packages (from requests>=2.2.1->flickrapi) (2.6)\n",
      "Requirement already satisfied: urllib3<1.23,>=1.21.1 in f:\\anaconda3\\lib\\site-packages (from requests>=2.2.1->flickrapi) (1.22)\n",
      "Requirement already satisfied: certifi>=2017.4.17 in f:\\anaconda3\\lib\\site-packages (from requests>=2.2.1->flickrapi) (2018.4.16)\n",
      "Requirement already satisfied: oauthlib>=0.6.2 in f:\\anaconda3\\lib\\site-packages (from requests-oauthlib>=0.4.0->flickrapi) (2.1.0)\n"
     ]
    },
    {
     "name": "stderr",
     "output_type": "stream",
     "text": [
      "distributed 1.21.8 requires msgpack, which is not installed.\n",
      "keras 2.2.2 has requirement keras_applications==1.0.4, but you'll have keras-applications 1.0.2 which is incompatible.\n",
      "keras 2.2.2 has requirement keras_preprocessing==1.0.2, but you'll have keras-preprocessing 1.0.1 which is incompatible.\n",
      "You are using pip version 10.0.1, however version 18.1 is available.\n",
      "You should consider upgrading via the 'python -m pip install --upgrade pip' command.\n"
     ]
    }
   ],
   "source": [
    "\n",
    "# Install the flickrapi package from pyPi\n",
    "!pip install flickrapi\n",
    "\n",
    "# Import the required packages\n",
    "import flickrapi\n",
    "import urllib\n",
    "from PIL import Image\n",
    "\n",
    "# instantiate the flickr object to use in the function\n",
    "flickr=flickrapi.FlickrAPI('Your API key', 'your API secret', cache=True)\n",
    "\n",
    "# Defining the method for retrieving images from flickr\n",
    "def image_retriever(flickr_object, keyword, shape, num_of_images=100):\n",
    "    # many extra options can be chosen. Ref: http://joequery.me/code/flickr-api-image-search-python/\n",
    "    photos = flickr.walk(text=keyword,\n",
    "                         tag_mode='all',\n",
    "                         tags=keyword,\n",
    "                         extras='url_c', \n",
    "                         per_page=100,          \n",
    "                         sort='relevance')\n",
    "    \n",
    "    # Getting a distinct set of urls\n",
    "    urls = set()\n",
    "    for i, photo in enumerate(photos):    \n",
    "        url = photo.get('url_c')\n",
    "        if (url is not None) and url not in urls:\n",
    "            urls.add(url)\n",
    "        if len(urls) == num_of_images:\n",
    "            break\n",
    "    urls = list(urls)\n",
    "    print (urls)\n",
    "    \n",
    "    # Generating image name, saving it, retrieving it again, resizing it and replacing the image\n",
    "    index = 1\n",
    "    for each_url in urls:\n",
    "        image_name = '%s_%d.jpg'%(keyword,index)\n",
    "        urllib.request.urlretrieve(each_url, image_name)\n",
    "        temp_image = Image.open(image_name)\n",
    "        temp_image = temp_image.resize((shape[0], shape[1]), Image.ANTIALIAS)\n",
    "        temp_image.save(image_name)\n",
    "        index+=1"
   ]
  },
  {
   "cell_type": "code",
   "execution_count": null,
   "metadata": {},
   "outputs": [],
   "source": [
    "keyword = input(\"Enter the keyword \")\n",
    "image_retriever(flickr, keyword, (150,150), num_of_images=100)"
   ]
  },
  {
   "cell_type": "code",
   "execution_count": null,
   "metadata": {},
   "outputs": [],
   "source": []
  }
 ],
 "metadata": {
  "kernelspec": {
   "display_name": "Python 3",
   "language": "python",
   "name": "python3"
  },
  "language_info": {
   "codemirror_mode": {
    "name": "ipython",
    "version": 3
   },
   "file_extension": ".py",
   "mimetype": "text/x-python",
   "name": "python",
   "nbconvert_exporter": "python",
   "pygments_lexer": "ipython3",
   "version": "3.6.5"
  },
  "toc": {
   "base_numbering": 1,
   "nav_menu": {},
   "number_sections": true,
   "sideBar": true,
   "skip_h1_title": true,
   "title_cell": "Table of Contents",
   "title_sidebar": "Contents",
   "toc_cell": true,
   "toc_position": {},
   "toc_section_display": true,
   "toc_window_display": false
  }
 },
 "nbformat": 4,
 "nbformat_minor": 2
}
